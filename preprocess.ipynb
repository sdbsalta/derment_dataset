import os
import shutil
import glob
from PIL import Image

# ─── CONFIG ─────────────────────────────────────────────────────────
SRC        = "dermnet_images"
DST        = "dermnet_256sq"
TARGET     = (256, 256)

CLASSES    = [
    "Psoriasis pictures Lichen Planus and related diseases",
    "Eczema Photos"
]

for split in ("train", "test"):
    for cls in CLASSES:
        src_folder = os.path.join(SRC, split, cls)
        dst_folder = os.path.join(DST, split, cls)
        os.makedirs(dst_folder, exist_ok=True)

        images = glob.glob(os.path.join(src_folder, "*.jpg"))
        print(f"{split}/{cls}: found {len(images)} images")

        for path in images:
            img = Image.open(path)
            w, h = img.size
            m = min(w, h)

            # center‐crop
            left = (w - m) // 2
            top  = (h - m) // 2
            img = img.crop((left, top, left + m, top + m))

            # resize
            img = img.resize(TARGET, Image.LANCZOS)

            # save
            fn      = os.path.basename(path)
            outpath = os.path.join(dst_folder, fn)
            img.save(outpath)

        saved = len(os.listdir(dst_folder))
        print(f"  → saved {saved} images to {dst_folder}\n")

print("Done preprocessing!")